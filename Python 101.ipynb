{
 "cells": [
  {
   "cell_type": "markdown",
   "metadata": {},
   "source": [
    "# Python 101"
   ]
  },
  {
   "cell_type": "code",
   "execution_count": 268,
   "metadata": {},
   "outputs": [],
   "source": [
    "import pandas as pd\n",
    "import numpy as np"
   ]
  },
  {
   "cell_type": "code",
   "execution_count": 286,
   "metadata": {},
   "outputs": [
    {
     "name": "stdout",
     "output_type": "stream",
     "text": [
      "[1 2 3]\n",
      "[1 2 3]\n"
     ]
    }
   ],
   "source": [
    "# convert list to array\n",
    "import numpy as np\n",
    "mylist = [1, 2, 3]\n",
    "myarray = np.asarray(mylist)\n",
    "# or, use the following: \n",
    "myarray = np.asarray([1,2,3])\n",
    "print(myarray)\n",
    "\n",
    "myarray = np.array([1,2,3])\n",
    "print(myarray)"
   ]
  },
  {
   "cell_type": "code",
   "execution_count": 285,
   "metadata": {},
   "outputs": [
    {
     "name": "stdout",
     "output_type": "stream",
     "text": [
      "['bob' 'alice' 'bob' 'b' 'c' 'd' 'e']\n",
      "[[ 0.89610508 -0.25244843 -0.18217853  0.31310449]\n",
      " [ 0.15663681 -0.63542445  1.21675537 -0.54162041]\n",
      " [ 0.06740546 -0.56219897 -0.12890413 -1.25619993]\n",
      " [-0.91699585  0.89938511 -0.29403487  0.161036  ]\n",
      " [ 1.52811936  1.43033056 -1.82041957  1.16599003]\n",
      " [ 1.15483104 -0.28447624 -0.1985252   0.16566777]\n",
      " [ 0.67980654 -0.71683996 -1.48501873  0.02304603]]\n",
      "[ True False  True False False False False]\n",
      "[[ 0.89610508 -0.25244843 -0.18217853  0.31310449]\n",
      " [ 0.06740546 -0.56219897 -0.12890413 -1.25619993]]\n",
      "-----------array condition selection / select items in an array by condition\n",
      "[0 1 2]\n",
      "[0 4]\n"
     ]
    }
   ],
   "source": [
    "names = np.array(['bob', 'alice', 'bob', 'b', 'c', 'd', 'e'])\n",
    "data = np.random.randn(7,4)\n",
    "print(names)\n",
    "print(data)\n",
    "print(names =='bob') #returns [1,0,1,0,0,0,0]\n",
    "print(data[names == 'bob']) #boolean index. Returns row 0 and 2. \n",
    "\n",
    "print('-----------array condition selection / select items in an array by condition')\n",
    "array = np.arange(5)\n",
    "print(array[array<3])\n",
    "\n",
    "array = np.arange(5)\n",
    "condition = np.logical_or(x < 1, x > 3)\n",
    "print(array[condition])"
   ]
  },
  {
   "cell_type": "code",
   "execution_count": 61,
   "metadata": {},
   "outputs": [
    {
     "name": "stdout",
     "output_type": "stream",
     "text": [
      "(17,)\n",
      "['r' 'r' 'r' 'r' 'r' 'g' 'g' 'g' 'g' 'g' 'g' 'g' 'b' 'b' 'b' 'b' 'b']\n"
     ]
    }
   ],
   "source": [
    "myarray =np.array([0,0,0,0,0,1,1,1,1,1,1,1,2,2,2,2,2])\n",
    "print(myarray.shape)\n",
    "colors = np.array(['r', 'g', 'b'])\n",
    "color_mapped_to_myarray = colors[myarray]\n",
    "print(color_mapped_to_myarray)"
   ]
  },
  {
   "cell_type": "code",
   "execution_count": 82,
   "metadata": {},
   "outputs": [
    {
     "data": {
      "text/html": [
       "<div>\n",
       "<style scoped>\n",
       "    .dataframe tbody tr th:only-of-type {\n",
       "        vertical-align: middle;\n",
       "    }\n",
       "\n",
       "    .dataframe tbody tr th {\n",
       "        vertical-align: top;\n",
       "    }\n",
       "\n",
       "    .dataframe thead th {\n",
       "        text-align: right;\n",
       "    }\n",
       "</style>\n",
       "<table border=\"1\" class=\"dataframe\">\n",
       "  <thead>\n",
       "    <tr style=\"text-align: right;\">\n",
       "      <th></th>\n",
       "      <th>col1</th>\n",
       "      <th>col2</th>\n",
       "    </tr>\n",
       "  </thead>\n",
       "  <tbody>\n",
       "    <tr>\n",
       "      <th>0</th>\n",
       "      <td>1</td>\n",
       "      <td>-1</td>\n",
       "    </tr>\n",
       "    <tr>\n",
       "      <th>1</th>\n",
       "      <td>2</td>\n",
       "      <td>-2</td>\n",
       "    </tr>\n",
       "  </tbody>\n",
       "</table>\n",
       "</div>"
      ],
      "text/plain": [
       "   col1  col2\n",
       "0     1    -1\n",
       "1     2    -2"
      ]
     },
     "metadata": {},
     "output_type": "display_data"
    },
    {
     "data": {
      "text/html": [
       "<div>\n",
       "<style scoped>\n",
       "    .dataframe tbody tr th:only-of-type {\n",
       "        vertical-align: middle;\n",
       "    }\n",
       "\n",
       "    .dataframe tbody tr th {\n",
       "        vertical-align: top;\n",
       "    }\n",
       "\n",
       "    .dataframe thead th {\n",
       "        text-align: right;\n",
       "    }\n",
       "</style>\n",
       "<table border=\"1\" class=\"dataframe\">\n",
       "  <thead>\n",
       "    <tr style=\"text-align: right;\">\n",
       "      <th></th>\n",
       "      <th>col1</th>\n",
       "      <th>col2</th>\n",
       "    </tr>\n",
       "  </thead>\n",
       "  <tbody>\n",
       "    <tr>\n",
       "      <th>0</th>\n",
       "      <td>1</td>\n",
       "      <td>-1</td>\n",
       "    </tr>\n",
       "    <tr>\n",
       "      <th>1</th>\n",
       "      <td>2</td>\n",
       "      <td>-2</td>\n",
       "    </tr>\n",
       "  </tbody>\n",
       "</table>\n",
       "</div>"
      ],
      "text/plain": [
       "   col1  col2\n",
       "0     1    -1\n",
       "1     2    -2"
      ]
     },
     "metadata": {},
     "output_type": "display_data"
    }
   ],
   "source": [
    "# convert array to df / convert multiple arrays to dataframe\n",
    "arr1 =np.array([1,2])\n",
    "arr2 =np.array([-1,-2])\n",
    "df = pd.DataFrame({'col1': arr1, 'col2': arr2})\n",
    "display(df)\n",
    "\n",
    "# convert ndarray to df / convert ndarray to dataframe\n",
    "arr = np.array([[1,-1], [2, -2]])\n",
    "df = pd.DataFrame({'col1': arr[:,0], 'col2': arr[:,1]})\n",
    "display(df)"
   ]
  },
  {
   "cell_type": "code",
   "execution_count": 7,
   "metadata": {},
   "outputs": [
    {
     "name": "stderr",
     "output_type": "stream",
     "text": [
      "C:\\ProgramData\\Anaconda3\\lib\\site-packages\\ipykernel_launcher.py:5: FutureWarning: Method .as_matrix will be removed in a future version. Use .values instead.\n",
      "  \"\"\"\n"
     ]
    }
   ],
   "source": [
    "# convert dataframe/convert df column to array\n",
    "x = df.iloc[:,0].values # convert a single column (col #0) to array\n",
    "myndarray = df.iloc[:, :] #convert the whole dataframe to ndarray. Header included. \n",
    "myarray = df.iloc[:,[0,1]].values #convert column 0 and 1 to ndarray. No header. \n",
    "x = df['col2'].as_matrix() #convert the 'col2' col to array\n",
    "x = df['col2'].values\n",
    "\n",
    "# convert dataframe to list / convert df column to list\n",
    "x = df['col2'].tolist()  #convert the 'col2' col to list\n"
   ]
  },
  {
   "cell_type": "code",
   "execution_count": null,
   "metadata": {},
   "outputs": [],
   "source": [
    "# see an object's type\n",
    "print(type(x))"
   ]
  },
  {
   "cell_type": "code",
   "execution_count": 136,
   "metadata": {},
   "outputs": [
    {
     "name": "stdout",
     "output_type": "stream",
     "text": [
      "3 1\n",
      "[10  2 34]\n",
      "[1 0 1 1]\n",
      "----------------------\n",
      "[ 4  8 13]\n",
      "[ 4  8 13]\n",
      "[-10   2  10  34]\n",
      "None\n",
      "----------------------\n",
      "[[2 1]\n",
      " [4 2]\n",
      " [5 4]]\n"
     ]
    }
   ],
   "source": [
    "# Get the max/min number's index in an array\n",
    "arr = np.array([10, -10, 2, 34])\n",
    "print(np.argmax(arr), np.argmin(arr))\n",
    "# get all the values under a condition in an array\n",
    "print(arr[arr>=2])\n",
    "\n",
    "# If/else condition to replace values in an array\n",
    "newarr = np.where(arr>=0, 1, 0)\n",
    "print(newarr)\n",
    "\n",
    "print('----------------------')\n",
    "\n",
    "# dot product of arrays \n",
    "arr1 = np.array([1,2])\n",
    "arr3 = np.array([[2,4,5], [1,2,4]])\n",
    "print(arr1.dot(arr3))\n",
    "print(arr1 @ arr3) # another way to write it\n",
    "\n",
    "# sort an array\n",
    "print(np.sort(arr))\n",
    "\n",
    "print('----------------------')\n",
    "\n",
    "# transpose an array\n",
    "print(arr3.T)"
   ]
  },
  {
   "cell_type": "markdown",
   "metadata": {},
   "source": [
    "### Map Function\n"
   ]
  },
  {
   "cell_type": "code",
   "execution_count": 244,
   "metadata": {},
   "outputs": [
    {
     "name": "stdout",
     "output_type": "stream",
     "text": [
      "[0, 1, 2, 3, 4, 5, 6, 7, 8, 9]\n",
      "[0, 1, 4, 9, 16, 25, 36, 49, 64, 81]\n"
     ]
    }
   ],
   "source": [
    "# map function\n",
    "mylist =list(range(10))\n",
    "newlist = list(map(lambda x: x**2, mylist))\n",
    "print(mylist)\n",
    "print(newlist)"
   ]
  },
  {
   "cell_type": "markdown",
   "metadata": {},
   "source": [
    "### Dictionary"
   ]
  },
  {
   "cell_type": "code",
   "execution_count": 267,
   "metadata": {},
   "outputs": [
    {
     "name": "stdout",
     "output_type": "stream",
     "text": [
      "{'a': 2, 'e': 3, 'd': 1, 'k': 1, 'i': 1, 'o': 2, 'l': 1, 'c': 2, 'w': 2, 'q': 1, 'b': 4}\n",
      "dict_keys(['a', 'e', 'd', 'k', 'i', 'o', 'l', 'c', 'w', 'q', 'b'])\n",
      "dict_values([2, 3, 1, 1, 1, 2, 1, 2, 2, 1, 4])\n"
     ]
    }
   ],
   "source": [
    "# dictionary\n",
    "# to count the number of each letter in a string\n",
    "string = 'aaedkeiolccwwqbbbboe'\n",
    "letter_dict = {i: string.count(i) for i in string }\n",
    "print(letter_dict)\n",
    "keys = letter_dict.keys()\n",
    "values = letter_dict.values()\n",
    "print(keys)\n",
    "print(values)"
   ]
  },
  {
   "cell_type": "markdown",
   "metadata": {},
   "source": [
    "### List and Array"
   ]
  },
  {
   "cell_type": "code",
   "execution_count": 206,
   "metadata": {},
   "outputs": [
    {
     "name": "stdout",
     "output_type": "stream",
     "text": [
      "[-1, 5, 10]\n",
      "[10, -1, 5]\n",
      "[-1, 5, 10]\n",
      "-------------below: array-----------\n",
      "[-1  5 10]\n"
     ]
    }
   ],
   "source": [
    "# sort\n",
    "# watch for difference. \n",
    "mylist = [10, -1, 5]\n",
    "print(sorted(mylist)) #won't get mutated\n",
    "print(mylist)\n",
    "mylist.sort() #use this if you want it mutated\n",
    "print(mylist) #remember: if you use print(mylist.sort()), you will get nothing\n",
    "\n",
    "\n",
    "print('-------------below: array-----------')\n",
    "myarray = np.array([10, -1, 5])\n",
    "print(np.sort(myarray))"
   ]
  },
  {
   "cell_type": "code",
   "execution_count": 247,
   "metadata": {},
   "outputs": [
    {
     "name": "stdout",
     "output_type": "stream",
     "text": [
      "[-2, 5, 3, 1]\n"
     ]
    }
   ],
   "source": [
    "# sort\n",
    "mylist = [1,3,5,-2]\n",
    "print(sorted(mylist, key = lambda x:x**2 )) #list sort by specific method\n",
    "print(sorted(mylist, key = lambda x:x**2, reverse = True)) #list sort descending by specific method\n",
    "list_of_tuples = [(x, y) for x in range(3) for y in range(x+1, 4)]\n",
    "print(list_of_tuples)\n",
    "print(sorted(list_of_tuples, key = lambda x: x[1])) #sort by y's value\n",
    "\n",
    "myarray = np.array([10, -1, 5])\n",
    "print(np.sort(myarray))\n",
    "print(-np.sort(-myarray)) #arrahy sort descending "
   ]
  },
  {
   "cell_type": "code",
   "execution_count": 255,
   "metadata": {},
   "outputs": [
    {
     "name": "stdout",
     "output_type": "stream",
     "text": [
      "[-2, 5, 3, 1]\n",
      "------------below array---------\n",
      "[ 5 -1 10]\n",
      "[[1 2 4]\n",
      " [2 4 5]]\n"
     ]
    }
   ],
   "source": [
    "# reverse\n",
    "mylist = [1,3,5,-2]\n",
    "# to reverse the list \n",
    "mylist.reverse() \n",
    "print(mylist)\n",
    "\n",
    "print('------------below array---------')\n",
    "# Reverse the array\n",
    "myarray = np.array([10, -1, 5])\n",
    "myarray = myarray[::-1]\n",
    "print(myarray)\n",
    "\n",
    "myndarray= np.array([[2,4,5], [1,2,4]])\n",
    "myndarray = myndarray[::-1]\n",
    "print(myndarray)"
   ]
  },
  {
   "cell_type": "code",
   "execution_count": 169,
   "metadata": {},
   "outputs": [
    {
     "name": "stdout",
     "output_type": "stream",
     "text": [
      "[10, -1, 5, 2, 3]\n",
      "[ 10 -10   2  34   5   6]\n",
      "[ 10 -10   2  34   5   6   7   8]\n"
     ]
    }
   ],
   "source": [
    "# extend\n",
    "# watch for difference. \n",
    "mylist = [10, -1, 5]\n",
    "newlist = [2,3]\n",
    "mylist.extend(newlist)\n",
    "print(mylist)\n",
    "# Below method is wrong\n",
    "# mynewlist = mylist.extend(newlist)\n",
    "# print(mynewlist)\n",
    "\n",
    "arr = np.array([10, -10, 2, 34])\n",
    "arr = np.append(arr, [[5,6]])\n",
    "print(arr)\n",
    "arr = np.append(arr, [7,8])\n",
    "print(arr)"
   ]
  },
  {
   "cell_type": "code",
   "execution_count": 180,
   "metadata": {},
   "outputs": [
    {
     "name": "stdout",
     "output_type": "stream",
     "text": [
      "[(0, 'a'), (1, 'b'), (2, 'c')]\n",
      "[(10, 'a'), (11, 'b'), (12, 'c')]\n",
      "List: index is:  0 , value is:  a\n",
      "List: index is:  1 , value is:  b\n",
      "List: index is:  2 , value is:  c\n",
      "[(10, 'a'), (11, 'b'), (12, 'c')]\n",
      "Array: index is:  0 , value is:  a\n",
      "Array: index is:  1 , value is:  b\n",
      "Array: index is:  2 , value is:  c\n"
     ]
    }
   ],
   "source": [
    "# enumerate:  \n",
    "# No difference\n",
    "mylist =['a', 'b', 'c']\n",
    "print(list(enumerate(mylist))) #enumerate each item in the list and its position\n",
    "print(list(enumerate(mylist, start = 10))) #you can manually make it start at a certain number\n",
    "for index, value in enumerate(mylist): \n",
    "    print('List: index is: ', index, ', value is: ', value)\n",
    "    \n",
    "arr = np.array(['a', 'b', 'c'])\n",
    "print(list(enumerate(arr, start = 10))) \n",
    "for index, value in enumerate(arr): \n",
    "    print('Array: index is: ', index, ', value is: ', value)"
   ]
  },
  {
   "cell_type": "code",
   "execution_count": 222,
   "metadata": {},
   "outputs": [
    {
     "name": "stdout",
     "output_type": "stream",
     "text": [
      "[(0, 0, 0), (0, 0, 1), (0, 0, 2), (0, 1, 1), (0, 1, 2), (0, 2, 2), (1, 1, 2)]\n",
      "A breakdown of how the triple_list is formed\n",
      "x 0\n",
      "y 0\n",
      "z 0\n",
      "z 1\n",
      "z 2\n",
      "y 1\n",
      "z 1\n",
      "z 2\n",
      "y 2\n",
      "z 2\n",
      "x 1\n",
      "y 1\n",
      "z 2\n",
      "y 2\n",
      "x 2\n",
      "y 2\n",
      "Unpack list of tuples:  [0, 0, 0, 0, 0, 1, 0, 0, 2, 0, 1, 1, 0, 1, 2, 0, 2, 2, 1, 1, 2]\n"
     ]
    }
   ],
   "source": [
    "# Unpack list of tuples\n",
    "list_of_tuples = [(x, y, z) for x in range(3) for y in range(x, 3) for z in range(x+y, 3)]\n",
    "print(list_of_tuples)\n",
    "\n",
    "print('A breakdown of how the triple_list is formed')\n",
    "for x in range(3): \n",
    "    print('x', x)\n",
    "    for y in range(x,3): \n",
    "        print('y', y)\n",
    "        for z in range(x+y, 3): \n",
    "            print('z', z)\n",
    "\n",
    "unpacked_list = [x for tup in list_of_tuples for x in tup]\n",
    "print('Unpack list of tuples: ',unpacked_list)\n",
    "\n",
    "# array: you can NOT put tuples in an array"
   ]
  }
 ],
 "metadata": {
  "kernelspec": {
   "display_name": "Python 3",
   "language": "python",
   "name": "python3"
  },
  "language_info": {
   "codemirror_mode": {
    "name": "ipython",
    "version": 3
   },
   "file_extension": ".py",
   "mimetype": "text/x-python",
   "name": "python",
   "nbconvert_exporter": "python",
   "pygments_lexer": "ipython3",
   "version": "3.6.8"
  }
 },
 "nbformat": 4,
 "nbformat_minor": 2
}
