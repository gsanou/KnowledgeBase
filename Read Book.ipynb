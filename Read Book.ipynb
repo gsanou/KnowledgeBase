{
 "cells": [
  {
   "cell_type": "markdown",
   "metadata": {},
   "source": [
    "Get contents out of a tuple"
   ]
  },
  {
   "cell_type": "code",
   "execution_count": null,
   "metadata": {},
   "outputs": [],
   "source": [
    "tup = tuple(['mystring', [1,2], True])\n",
    "tup[0]"
   ]
  },
  {
   "cell_type": "markdown",
   "metadata": {},
   "source": [
    "If an object inside a tupel is mutable, i.e. a list, you can modify it. "
   ]
  },
  {
   "cell_type": "code",
   "execution_count": null,
   "metadata": {},
   "outputs": [],
   "source": [
    "tup = tuple(['mystring', [1,2], True])\n",
    "tup[1].append(3)\n",
    "print(tup[1])"
   ]
  },
  {
   "cell_type": "markdown",
   "metadata": {},
   "source": [
    "Plus (+) and multiple(*) tuples"
   ]
  },
  {
   "cell_type": "code",
   "execution_count": null,
   "metadata": {},
   "outputs": [],
   "source": [
    "tup1 = (3, 4)\n",
    "tup5 = (tup1[0]*2, tup1[1]*2)\n",
    "tup6 = tup1*2\n",
    "print('(tup1[0]*2, tup1[1]*2) result is', tup5)\n",
    "print('tup1*2 result is', tup6)"
   ]
  },
  {
   "cell_type": "markdown",
   "metadata": {},
   "source": [
    "Unpack tuples\n"
   ]
  },
  {
   "cell_type": "code",
   "execution_count": null,
   "metadata": {},
   "outputs": [],
   "source": [
    "tup = (0, 1, (2, 3))\n",
    "a, b, (c, d) = tup\n",
    "print(a)\n",
    "print(b)\n",
    "print(c)\n",
    "print(d)"
   ]
  },
  {
   "cell_type": "markdown",
   "metadata": {},
   "source": [
    "\n"
   ]
  },
  {
   "cell_type": "markdown",
   "metadata": {},
   "source": [
    "## f'string Formatting\n",
    "Format: \n",
    "\n",
    "f'*thewords to add* {*the value*: 0.xf}.'  where x is the number of decimal that you want to keep"
   ]
  },
  {
   "cell_type": "code",
   "execution_count": 28,
   "metadata": {},
   "outputs": [
    {
     "name": "stdout",
     "output_type": "stream",
     "text": [
      "The value of pi is approximately 3.142.\n"
     ]
    }
   ],
   "source": [
    "import math\n",
    "from math import *\n",
    "print(f'The value of pi is approximately {pi:.3f}.')"
   ]
  },
  {
   "cell_type": "code",
   "execution_count": 24,
   "metadata": {},
   "outputs": [
    {
     "name": "stdout",
     "output_type": "stream",
     "text": [
      "1. \n",
      "a = 1.5, b = 2.00, c = 4\n",
      "---------------------------\n",
      "2. \n",
      "0\n",
      "2\n",
      "2\n",
      "4\n",
      "4\n",
      "6\n",
      "6\n",
      "8\n",
      "8\n",
      "1235\n",
      "1234\n",
      "---------------------------\n",
      "3. \n",
      "1234\n",
      "-1234\n",
      "1234\n"
     ]
    }
   ],
   "source": [
    "print('1. ')\n",
    "mylist = [1.5, 2, 3.50000000]\n",
    "print('a = {0}, b = {1:0.2f}, c = {2:0.0f}'.format(mylist[0], mylist[1], mylist[2]))\n",
    "print('---------------------------')\n",
    "\n",
    "print('2. ')\n",
    "print('{:0.0f}'.format(0.5))\n",
    "print('{:0.0f}'.format(1.5))\n",
    "print('{:0.0f}'.format(2.5))\n",
    "print('{:0.0f}'.format(3.5))\n",
    "print('{:0.0f}'.format(4.5))\n",
    "print('{:0.0f}'.format(5.5))\n",
    "print('{:0.0f}'.format(6.5))\n",
    "print('{:0.0f}'.format(7.5))\n",
    "print('{:0.0f}'.format(8.5))\n",
    "print('{:0.0f}'.format(1234.5678))\n",
    "print('{:d}'.format(1234))\n",
    "# print('{:d}'.format(trunc(1234.5678)))\n",
    "print('---------------------------')\n",
    "\n",
    "print('3. ')\n",
    "myfloat = 1234.5678\n",
    "from math import *\n",
    "print ('{:d}'.format(int(myfloat)))\n",
    "print ('{:d}'.format(trunc(-myfloat))) #trunc rounds towards 0\n",
    "print ('{:0.0f}'.format(trunc(myfloat)))"
   ]
  },
  {
   "cell_type": "code",
   "execution_count": 22,
   "metadata": {},
   "outputs": [
    {
     "name": "stdout",
     "output_type": "stream",
     "text": [
      "36.500%\n",
      "0.36\n"
     ]
    }
   ],
   "source": [
    "num = 36.4\n",
    "num = 0.365\n",
    "print(\"{:0.3%}\".format(num))\n",
    "print(\"{:0.2f}\".format(num))"
   ]
  }
 ],
 "metadata": {
  "kernelspec": {
   "display_name": "Python 3",
   "language": "python",
   "name": "python3"
  },
  "language_info": {
   "codemirror_mode": {
    "name": "ipython",
    "version": 3
   },
   "file_extension": ".py",
   "mimetype": "text/x-python",
   "name": "python",
   "nbconvert_exporter": "python",
   "pygments_lexer": "ipython3",
   "version": "3.6.8"
  }
 },
 "nbformat": 4,
 "nbformat_minor": 2
}
