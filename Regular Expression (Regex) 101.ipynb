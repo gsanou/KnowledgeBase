{
 "cells": [
  {
   "cell_type": "markdown",
   "metadata": {},
   "source": [
    "# Regular Expression (Regex)\n",
    "Reference: \n",
    "https://www.youtube.com/watch?v=rcM26jV7Mdo&list=PLtb2Lf-cJ_AWhtJE6Rb5oWf02RC2qVU-J&index=38\n",
    "\n",
    "Useful Links: \n",
    "\n",
    "Very useful: https://stackoverflow.com/questions/1449817/what-are-some-of-the-most-useful-regular-expressions-for-programmers?utm_medium=organic&utm_source=google_rich_qa&utm_campaign=google_rich_qa\n",
    "\n",
    "Very useful, scroll to mid-page:  https://www.machinelearningplus.com/python/python-regex-tutorial-examples/\n",
    "\n",
    "\n",
    "Frequently used Regex"
   ]
  },
  {
   "cell_type": "code",
   "execution_count": 2,
   "metadata": {},
   "outputs": [],
   "source": [
    "import re"
   ]
  },
  {
   "cell_type": "markdown",
   "metadata": {},
   "source": [
    "## Regex 101\n",
    "Match: \n",
    "\n",
    "    \\d: match any digit\n",
    "    \\D: match any non-digit\n",
    "    \\s: match any white space\n",
    "    \\S: match any non-white space\n",
    "    \\w: match any letter or digit\n",
    "    \\W: match anything that's not letter or digit\n",
    "\n",
    "Commonly used: \n",
    "\n",
    "    regex = re.compile('#whatever you are searching')\n",
    "    regex.split()\n",
    "    regex.findall()\n",
    "\n",
    "Repetition Markers: \n",
    "    \n",
    "    ? : 'ab?' matches 'a' or 'ab'\n",
    "    * : 'ab*' matches 'a', 'ab', 'abb', 'abbb'...\n",
    "    + : 'ab+' matches 'ab', 'abb', 'abbb', but not 'a'\n",
    "    {n}: 'ab{2}' matches 'abb'\n",
    "    '{m,n}: 'ab{2,3} matches 'abb' or 'abbb'  # 2b or 3b\n",
    "    \n",
    "\n",
    "    \n",
    "    "
   ]
  },
  {
   "cell_type": "code",
   "execution_count": 62,
   "metadata": {},
   "outputs": [
    {
     "name": "stdout",
     "output_type": "stream",
     "text": [
      "['ing']\n",
      "[] ---------------------------\n",
      "['Mr. Gold', '', ' has tight', '', '', '', 'd his rop', ' ', '', 'd.']\n",
      "Mr. Gold\n",
      "\n",
      " has tight\n",
      "\n",
      "\n",
      "\n",
      "d his rop\n",
      " \n",
      "\n",
      "d.\n",
      "------------------\n",
      "['t', 'h', 'e', 'p', 'r', 'i', 'c', 'e', 'i', 's', '5', '3', '3']\n",
      "['the', 'pri']\n",
      "['a', 'his', 'weight', 'is', '50kg']\n",
      "------------------\n",
      "['the', '', 'number', 'is', '#6.96!']\n",
      "[' ', ' ', ' ', ' ']\n",
      "['t', 'h', 'e', 'p', 'r', 'i', 'c', 'e', 'i', 's', '$', '6', '.', '9', '6', '#', '!']\n"
     ]
    }
   ],
   "source": [
    "# to find the exact string. i.e. 'ing' \n",
    "# where there is no 'ing', the result is an empty list\n",
    "regex = re.compile('ing')\n",
    "print(regex.findall('He is lying'))\n",
    "# print(re.compile('ing').findall('He is lying')) #same as above\n",
    "print(regex.findall('He lied'), '---------------------------')\n",
    "\n",
    "\n",
    "# when in square brackets[], it means it's in any of the items inside the []. Order doesn't matter. \n",
    "regex = re.compile('[en]') #'[ene]' or '[enne]', etc., same result\n",
    "print(regex.split('Mr. Golden has tighteened his rope end.'))\n",
    "regex.split('Mr. Golden has tighteened his rope end.')\n",
    "for i in regex.split('Mr. Golden has tighteened his rope end.'): \n",
    "    print(i)\n",
    "print('------------------')\n",
    "\n",
    "regex = re.compile('\\w') # any letter or number\n",
    "print(regex.findall('the price is $5.33   #!'))\n",
    "regex = re.compile(r'\\w{3}') #any 3 letters together\n",
    "print(regex.findall('the price is $5.33   #!'))\n",
    "regex = re.compile(r'\\w+') #any letters together\n",
    "print(regex.findall('a...his weight is <50kg!!!'))\n",
    "print('------------------')\n",
    "\n",
    "regex = re.compile('\\s') # any space\n",
    "print(regex.split('the  number is #6.96!'))\n",
    "print(regex.findall('the  number is $6.96#!'))\n",
    "regex = re.compile('\\S') # any non-space\n",
    "print(regex.findall('the  price is $6.96#!'))"
   ]
  },
  {
   "cell_type": "markdown",
   "metadata": {},
   "source": [
    "Special Characters in Regular Expression (Regex)\n",
    "\n",
    "    .^$*+?{}[]\\|()"
   ]
  },
  {
   "cell_type": "code",
   "execution_count": 16,
   "metadata": {},
   "outputs": [
    {
     "name": "stdout",
     "output_type": "stream",
     "text": [
      "['|']\n",
      "['/']\n"
     ]
    }
   ],
   "source": [
    "# to find the exact string with the above special characters, use r'\\ ' in front of the special characters. \n",
    "regex = re.compile(r'\\|') #to find '\\'\n",
    "print(regex.findall('He|She is lying'))\n",
    "print(re.compile(r'\\/').findall('He/She is lying'))"
   ]
  },
  {
   "cell_type": "code",
   "execution_count": null,
   "metadata": {},
   "outputs": [],
   "source": []
  }
 ],
 "metadata": {
  "kernelspec": {
   "display_name": "Python 3",
   "language": "python",
   "name": "python3"
  },
  "language_info": {
   "codemirror_mode": {
    "name": "ipython",
    "version": 3
   },
   "file_extension": ".py",
   "mimetype": "text/x-python",
   "name": "python",
   "nbconvert_exporter": "python",
   "pygments_lexer": "ipython3",
   "version": "3.6.8"
  }
 },
 "nbformat": 4,
 "nbformat_minor": 2
}
